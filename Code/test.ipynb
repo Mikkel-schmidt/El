from streamlit_functions import getMeterPoints, getMeterReadings

IDs = getMeterPoints('Fitnessworld')