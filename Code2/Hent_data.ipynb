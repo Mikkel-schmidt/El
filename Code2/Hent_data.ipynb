{
 "cells": [
  {
   "cell_type": "code",
   "execution_count": null,
   "metadata": {},
   "outputs": [],
   "source": [
    "import pandas as pd\n",
    "import numpy as np\n",
    "import matplotlib.pyplot as plt\n",
    "\n",
    "import requests\n",
    "import urllib.request as request\n",
    "from urllib.parse import quote\n",
    "\n",
    "import ruptures as rpt\n",
    "\n",
    "from datetime import datetime\n",
    "from datetime import timedelta\n",
    "from tqdm import tqdm"
   ]
  },
  {
   "cell_type": "code",
   "execution_count": null,
   "metadata": {},
   "outputs": [],
   "source": [
    "def getMeterPoints(Customer):\n",
    "    ApiKey = \"3bb0bb5c-392d-4daa-8b0e-6a675387d08b\"\n",
    "    url = \"https://superhub.dk/api/nrgiraadgivning/v2/meteringPoints\"\n",
    "    url = url + \"?\" + \"apikey=\" + ApiKey + \"&customerKey=\" + quote(Customer)\n",
    "    #print(url)\n",
    "    response = requests.get(url)\n",
    "    df = pd.json_normalize(response.json()) \n",
    "    df['meteringPointId'] = pd.to_numeric(df['meteringPointId'])\n",
    "    #print(df['meteringPointId'].to_list())\n",
    "    IDs = df['meteringPointId'].to_list()\n",
    "    return df, IDs\n",
    "\n",
    "def getMeterReadings(meteringPoints):\n",
    "    ApiKey = \"3bb0bb5c-392d-4daa-8b0e-6a675387d08b\"\n",
    "    From = '31122021'#(datetime.today() - timedelta(days = 1000)).strftime('%d%m%Y')\n",
    "    To = datetime.today().strftime('%d%m%Y')\n",
    "    df = pd.DataFrame()\n",
    "    Fails = 0\n",
    "    for meter in tqdm(meteringPoints):\n",
    "        url = \"https://superhub.dk/api/nrgiraadgivning/v2/meterreadings\"\n",
    "        url = url + \"?\" + \"apikey=\" + ApiKey + \"&meteringpointId=\" + str(meter) + \"&from=\" + From + \"&to=\" + To\n",
    "        \n",
    "        response = requests.get(url)\n",
    "        if response.status_code != 200:\n",
    "            Fails += 1\n",
    "            continue\n",
    "        jso = response.json()\n",
    "\n",
    "        dff = pd.json_normalize(jso)\n",
    "        \n",
    "        if (dff.columns == 'meteringPoints.Production').any():\n",
    "            df_meter = pd.json_normalize(jso['meteringPoints'], 'Production')\n",
    "        elif (dff.columns == 'meteringPoints.Consumption').any():\n",
    "            df_meter = pd.json_normalize(jso['meteringPoints'], 'Consumption') \n",
    "        else:\n",
    "             print(dff.columns)\n",
    "             continue\n",
    "        df_meter['meter'] = jso['meteringPointId']\n",
    "        df_meter['Adresse'] = jso['streetName'] + ' ' + jso['buildingNumber'] + ', ' + jso['postcode'] + ' ' + jso['cityName']\n",
    "        df = pd.concat([df, df_meter], ignore_index=True)\n",
    "    df['from'] = pd.to_datetime(df['from'], utc=True)\n",
    "    df['meter'] = pd.to_numeric(df['meter'])\n",
    "    print('Amount of fails: ' + str(Fails))\n",
    "    print(url)\n",
    "    return df\n",
    "\n",
    "def get_day_moment(hour) -> str: \n",
    "    if 6 <= hour <= 18:\n",
    "        return 'day'\n",
    "    return 'night'\n",
    "\n",
    "def ugeprofil(df):\n",
    "            dff = df.groupby([df['from'].dt.day_name(locale='da_DK'), df['from'].dt.hour]).mean().reset_index(names=['day', 'hour'])\n",
    "            dff['day_'] = dff['day']\n",
    "            dff['day_'].replace({\n",
    "                    \"Mandag\": 0,\n",
    "                    \"Tirsdag\": 1,\n",
    "                    \"Onsdag\": 2,\n",
    "                    \"Torsdag\": 3,\n",
    "                    \"Fredag\": 4,\n",
    "                    \"Lørdag\": 5,\n",
    "                    \"Søndag\": 6},\n",
    "                    inplace=True,)\n",
    "            dff.sort_values(['day_', 'hour'], ascending=True, inplace=True)\n",
    "            dff['x-axis'] = dff.apply(lambda row: row['day'] + ' kl. ' + str(row['hour']), axis=1)\n",
    "            return dff\n",
    "\n",
    "def rupt(tid, df):\n",
    "    nbkps = 12\n",
    "\n",
    "    test = df['amount']\n",
    "    points=np.array(test)\n",
    "    n= len(points)\n",
    "    if nbkps == 1:\n",
    "        nbkps = np.floor(np.round(n/365*4))\n",
    "    #Changepoint detection with dynamic programming search method\n",
    "    model = \"l1\"  \n",
    "    algo = rpt.Window(width=24*30, model=model, min_size=3, jump=5).fit(points)\n",
    "    my_bkps = algo.predict(n_bkps=nbkps)\n",
    "    return my_bkps\n",
    "\n",
    "def besp():\n",
    "    df_besp = pd.DataFrame(columns=['Adresse', 'besparelse', 'årligt forbrug', 'last', 'best', 'mean', 'bkps'])\n",
    "    dfff = pd.DataFrame()\n",
    "    \n",
    "    for adr in tqdm(df['Adresse'].unique()):\n",
    "        dff = df[df['Adresse']==adr]\n",
    "        dff['day-moment'] = dff['from'].dt.hour.map(get_day_moment)\n",
    "        dff = dff.groupby('from').agg({'meter': 'mean', 'amount': 'sum', 'day-moment': 'first', 'Adresse': 'first'}).reset_index()\n",
    "        my_bkps = rupt('day', dff)\n",
    "\n",
    "        value_avg_day = np.zeros(len(dff['amount']))\n",
    "        #stdd_avg_day  = np.zeros(len(dff['amount']))\n",
    "        vvvv = np.zeros((len(my_bkps),2),)\n",
    "        k=0\n",
    "        j=0\n",
    "        for i in my_bkps:\n",
    "            value_avg_day[j:i] = np.mean(dff['amount'][j:i])\n",
    "            #stdd_avg_day[j:i]  = np.std(dff['amount'][j:i])\n",
    "            vvvv[k, 0] = np.mean(dff['amount'][j:i])\n",
    "            vvvv[k, 1] = i\n",
    "            k += 1\n",
    "            j=i\n",
    "        dff['bkps'] = value_avg_day\n",
    "        print(dff['bkps'])\n",
    "        \n",
    "        if dff['bkps'].iloc[-1] >= dff['bkps'].max():\n",
    "            df_opti = dff[dff['bkps']==dff['bkps'].iloc[-1]].groupby('from').agg({'meter': 'mean', 'amount': 'sum', 'day-moment': 'first'}).reset_index()\n",
    "        else:\n",
    "            df_opti = dff[dff['bkps']==dff['bkps'].min()].groupby('from').agg({'meter': 'mean', 'amount': 'sum', 'day-moment': 'first'}).reset_index()\n",
    "            k=1\n",
    "            while df_opti['amount'].mean() <= 0.2:\n",
    "                dff1 = dff[~(dff['bkps']==dff['bkps'].min())]\n",
    "                df_opti = dff1[dff1['bkps']==dff1['bkps'].min()].groupby('from').agg({'meter': 'mean', 'amount': 'sum', 'day-moment': 'first'}).reset_index()\n",
    "                k += 1\n",
    "                del dff1\n",
    "                if (k == 10):\n",
    "                    df_opti = dff[dff['bkps']==dff['bkps'].iloc[-1]].groupby('from').agg({'meter': 'mean', 'amount': 'sum', 'day-moment': 'first'}).reset_index()\n",
    "                    break\n",
    "                \n",
    "        df_norm = dff[dff['bkps']==dff['bkps'].iloc[-1]].groupby('from').agg({'meter': 'mean', 'amount': 'sum', 'day-moment': 'first'}).reset_index()\n",
    "\n",
    "        uge = ugeprofil(df_opti)\n",
    "        uge2 = ugeprofil(df_norm) \n",
    "        #print(my_bkps)\n",
    "\n",
    "        ugg = uge[['day', 'hour', 'amount', 'x-axis']].merge(uge2[['day', 'hour', 'amount']], how='outer', on=['day', 'hour'], suffixes=('_opti', '_now'))\n",
    "        ugg['besparelse_kwh'] = ugg['amount_now'] - ugg['amount_opti']\n",
    "        ttt = pd.DataFrame(data={'Adresse': [adr], \n",
    "                                 'besparelse': [ugg['besparelse_kwh'].sum()*52], \n",
    "                                 'årligt forbrug': [ugg['amount_now'].sum()*52],\n",
    "                                 'last': df_norm['amount'].mean(),\n",
    "                                 'best': df_opti['amount'].mean(), \n",
    "                                 'mean': dff['amount'].mean(),\n",
    "                                 'meter': dff['meter'].mean(),\n",
    "                                 'bkps': 0,\n",
    "                                 'bkps_value': 0,\n",
    "                                 'total kwh': dff['amount'].sum()} )\n",
    "        ttt[['bkps', 'bkps_value']] = ttt[['bkps', 'bkps_value']].astype('object')\n",
    "        ttt.at[0,'bkps'] = my_bkps\n",
    "        ttt.at[0,'bkps_value'] = vvvv[:,0]\n",
    "        df_besp = df_besp.append(ttt)\n",
    "        dfff = dfff.append(dff)\n",
    "\n",
    "    df_besp = df_besp[df_besp['årligt forbrug'] != 0.0]\n",
    "    df_besp['%'] = df_besp.apply(lambda row: row['besparelse']/row['årligt forbrug']*100, axis=1)\n",
    "    return df_besp, dfff"
   ]
  },
  {
   "cell_type": "code",
   "execution_count": null,
   "metadata": {},
   "outputs": [],
   "source": []
  },
  {
   "cell_type": "code",
   "execution_count": null,
   "metadata": {},
   "outputs": [],
   "source": [
    "kunde = 'FitnessWorld'\n",
    "df, IDs = getMeterPoints(kunde)\n",
    "print(IDs)\n",
    "df.head()"
   ]
  },
  {
   "cell_type": "code",
   "execution_count": null,
   "metadata": {},
   "outputs": [],
   "source": [
    "df = getMeterReadings(IDs)"
   ]
  },
  {
   "cell_type": "code",
   "execution_count": null,
   "metadata": {},
   "outputs": [],
   "source": []
  },
  {
   "cell_type": "code",
   "execution_count": null,
   "metadata": {},
   "outputs": [],
   "source": [
    "df['day-moment'] = df['from'].dt.hour.map(get_day_moment)"
   ]
  },
  {
   "cell_type": "code",
   "execution_count": null,
   "metadata": {},
   "outputs": [],
   "source": [
    "df_besp, dff = besp()\n",
    "dff['meter'] = pd.to_numeric(dff['meter'])\n",
    "df_besp.head()"
   ]
  },
  {
   "cell_type": "code",
   "execution_count": null,
   "metadata": {},
   "outputs": [],
   "source": [
    "df_besp.to_csv('../Data/besp/'+kunde+'.csv', header=True, sep=',', index=False)\n",
    "dff.to_csv('../Data/timeforbrug/'+kunde+'.csv', header=True, sep=',', index=False)"
   ]
  },
  {
   "cell_type": "code",
   "execution_count": null,
   "metadata": {},
   "outputs": [],
   "source": [
    "dff.shape "
   ]
  },
  {
   "cell_type": "code",
   "execution_count": null,
   "metadata": {},
   "outputs": [],
   "source": [
    "#df_besp.head()"
   ]
  },
  {
   "cell_type": "code",
   "execution_count": null,
   "metadata": {},
   "outputs": [],
   "source": [
    "dfff = dff[dff['Adresse']=='Vandmanden 5, 9200 Aalborg SV'].groupby('from').agg({'meter': 'mean', 'amount': 'sum', 'bkps': 'sum'}).reset_index()\n",
    "\n",
    "fig, ax = plt.subplots(figsize=(14,4)) \n",
    "ax.plot(dfff['from'], dfff['amount'], linewidth=0.3)\n",
    "ax.plot(dfff['from'], dfff['bkps'])\n",
    "ax.plot(dfff['from'][dfff['bkps']==dfff['bkps'].min()], dfff['bkps'][dfff['bkps']==dfff['bkps'].min()], linewidth=6)\n"
   ]
  },
  {
   "cell_type": "code",
   "execution_count": null,
   "metadata": {},
   "outputs": [],
   "source": [
    "dfff.head()"
   ]
  },
  {
   "cell_type": "code",
   "execution_count": null,
   "metadata": {},
   "outputs": [],
   "source": []
  }
 ],
 "metadata": {
  "kernelspec": {
   "display_name": "Python 3",
   "language": "python",
   "name": "python3"
  },
  "language_info": {
   "codemirror_mode": {
    "name": "ipython",
    "version": 3
   },
   "file_extension": ".py",
   "mimetype": "text/x-python",
   "name": "python",
   "nbconvert_exporter": "python",
   "pygments_lexer": "ipython3",
   "version": "3.10.10"
  },
  "orig_nbformat": 4,
  "vscode": {
   "interpreter": {
    "hash": "2da2f24219e96d79973bd0de2a2909cb73185de5c48fe13f548911ba85a98feb"
   }
  }
 },
 "nbformat": 4,
 "nbformat_minor": 2
}
