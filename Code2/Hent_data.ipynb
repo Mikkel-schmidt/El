{
 "cells": [
  {
   "cell_type": "code",
   "execution_count": 1,
   "metadata": {},
   "outputs": [],
   "source": [
    "import pandas as pd\n",
    "import numpy as np\n",
    "import matplotlib.pyplot as plt\n",
    "\n",
    "import requests\n",
    "import urllib.request as request\n",
    "from urllib.parse import quote\n",
    "\n",
    "import ruptures as rpt\n",
    "\n",
    "from datetime import datetime\n",
    "from datetime import timedelta\n",
    "from tqdm import tqdm"
   ]
  },
  {
   "cell_type": "code",
   "execution_count": 20,
   "metadata": {},
   "outputs": [],
   "source": [
    "def getMeterPoints(Customer):\n",
    "    ApiKey = \"3bb0bb5c-392d-4daa-8b0e-6a675387d08b\"\n",
    "    url = \"https://superhub.dk/api/nrgiraadgivning/v2/meteringPoints\"\n",
    "    url = url + \"?\" + \"apikey=\" + ApiKey + \"&customerKey=\" + quote(Customer)\n",
    "    #print(url)\n",
    "    response = requests.get(url)\n",
    "    df = pd.json_normalize(response.json()) \n",
    "    df['meteringPointId'] = pd.to_numeric(df['meteringPointId'])\n",
    "    #print(df['meteringPointId'].to_list())\n",
    "    IDs = df['meteringPointId'].to_list()\n",
    "    return df, IDs\n",
    "\n",
    "def getMeterReadings(meteringPoints):\n",
    "    ApiKey = \"3bb0bb5c-392d-4daa-8b0e-6a675387d08b\"\n",
    "    From = '31122021'#(datetime.today() - timedelta(days = 1000)).strftime('%d%m%Y')\n",
    "    To = datetime.today().strftime('%d%m%Y')\n",
    "    df = pd.DataFrame()\n",
    "    Fails = 0\n",
    "    for meter in tqdm(meteringPoints):\n",
    "        url = \"https://superhub.dk/api/nrgiraadgivning/v2/meterreadings\"\n",
    "        url = url + \"?\" + \"apikey=\" + ApiKey + \"&meteringpointId=\" + str(meter) + \"&from=\" + From + \"&to=\" + To\n",
    "        \n",
    "        response = requests.get(url)\n",
    "        if response.status_code != 200:\n",
    "            Fails += 1\n",
    "            continue\n",
    "        jso = response.json()\n",
    "\n",
    "        dff = pd.json_normalize(jso)\n",
    "        \n",
    "        if (dff.columns == 'meteringPoints.Production').any():\n",
    "            df_meter = pd.json_normalize(jso['meteringPoints'], 'Production')\n",
    "        elif (dff.columns == 'meteringPoints.Consumption').any():\n",
    "            df_meter = pd.json_normalize(jso['meteringPoints'], 'Consumption') \n",
    "        else:\n",
    "             print(dff.columns)\n",
    "             continue\n",
    "        df_meter['meter'] = jso['meteringPointId']\n",
    "        df_meter['Adresse'] = jso['streetName'] + ' ' + jso['buildingNumber'] + ', ' + jso['postcode'] + ' ' + jso['cityName']\n",
    "        df = pd.concat([df, df_meter], ignore_index=True)\n",
    "    df['from'] = pd.to_datetime(df['from'], utc=True)\n",
    "    df['meter'] = pd.to_numeric(df['meter'])\n",
    "    print('Amount of fails: ' + str(Fails))\n",
    "    return df\n",
    "\n",
    "def get_day_moment(hour) -> str: \n",
    "    if 6 <= hour <= 18:\n",
    "        return 'day'\n",
    "    return 'night'\n",
    "\n",
    "def ugeprofil(df):\n",
    "            dff = df.groupby([df['from'].dt.day_name(locale='da_DK'), df['from'].dt.hour]).mean().reset_index(names=['day', 'hour'])\n",
    "            dff['day_'] = dff['day']\n",
    "            dff['day_'].replace({\n",
    "                    \"Mandag\": 0,\n",
    "                    \"Tirsdag\": 1,\n",
    "                    \"Onsdag\": 2,\n",
    "                    \"Torsdag\": 3,\n",
    "                    \"Fredag\": 4,\n",
    "                    \"Lørdag\": 5,\n",
    "                    \"Søndag\": 6},\n",
    "                    inplace=True,)\n",
    "            dff.sort_values(['day_', 'hour'], ascending=True, inplace=True)\n",
    "            dff['x-axis'] = dff.apply(lambda row: row['day'] + ' kl. ' + str(row['hour']), axis=1)\n",
    "            return dff\n",
    "\n",
    "def rupt(tid, df):\n",
    "    nbkps = 12\n",
    "\n",
    "    test = df['amount']\n",
    "    points=np.array(test)\n",
    "    n= len(points)\n",
    "    if nbkps == 1:\n",
    "        nbkps = np.floor(np.round(n/365*4))\n",
    "    #Changepoint detection with dynamic programming search method\n",
    "    model = \"l1\"  \n",
    "    algo = rpt.Window(width=24*30, model=model, min_size=3, jump=5).fit(points)\n",
    "    my_bkps = algo.predict(n_bkps=nbkps)\n",
    "    return my_bkps\n",
    "\n",
    "def besp():\n",
    "    df_besp = pd.DataFrame(columns=['Adresse', 'besparelse', 'årligt forbrug', 'last', 'best', 'mean', 'bkps'])\n",
    "    dfff = pd.DataFrame()\n",
    "    \n",
    "    for adr in tqdm(df['Adresse'].unique()):\n",
    "        dff = df[df['Adresse']==adr]\n",
    "        dff['day-moment'] = dff['from'].dt.hour.map(get_day_moment)\n",
    "        dff = dff.groupby('from').agg({'meter': 'mean', 'amount': 'sum', 'day-moment': 'first', 'Adresse': 'first'}).reset_index()\n",
    "        my_bkps = rupt('day', dff)\n",
    "\n",
    "        value_avg_day = np.zeros(len(dff['amount']))\n",
    "        #stdd_avg_day  = np.zeros(len(dff['amount']))\n",
    "        vvvv = np.zeros((len(my_bkps),2),)\n",
    "        k=0\n",
    "        j=0\n",
    "        for i in my_bkps:\n",
    "            value_avg_day[j:i] = np.mean(dff['amount'][j:i])\n",
    "            #stdd_avg_day[j:i]  = np.std(dff['amount'][j:i])\n",
    "            vvvv[k, 0] = np.mean(dff['amount'][j:i])\n",
    "            vvvv[k, 1] = i\n",
    "            k += 1\n",
    "            j=i\n",
    "        dff['bkps'] = value_avg_day\n",
    "        print(dff['bkps'])\n",
    "        \n",
    "        if dff['bkps'].iloc[-1] >= dff['bkps'].max():\n",
    "            df_opti = dff[dff['bkps']==dff['bkps'].iloc[-1]].groupby('from').agg({'meter': 'mean', 'amount': 'sum', 'day-moment': 'first'}).reset_index()\n",
    "        else:\n",
    "            df_opti = dff[dff['bkps']==dff['bkps'].min()].groupby('from').agg({'meter': 'mean', 'amount': 'sum', 'day-moment': 'first'}).reset_index()\n",
    "            k=1\n",
    "            while df_opti['amount'].mean() <= 0.2:\n",
    "                dff1 = dff[~(dff['bkps']==dff['bkps'].min())]\n",
    "                df_opti = dff1[dff1['bkps']==dff1['bkps'].min()].groupby('from').agg({'meter': 'mean', 'amount': 'sum', 'day-moment': 'first'}).reset_index()\n",
    "                k += 1\n",
    "                del dff1\n",
    "                print(k)\n",
    "                if (k == 4):\n",
    "                    df_opti = dff[dff['bkps']==dff['bkps'].iloc[-1]].groupby('from').agg({'meter': 'mean', 'amount': 'sum', 'day-moment': 'first'}).reset_index()\n",
    "                    break\n",
    "                \n",
    "        df_norm = dff[dff['bkps']==dff['bkps'].iloc[-1]].groupby('from').agg({'meter': 'mean', 'amount': 'sum', 'day-moment': 'first'}).reset_index()\n",
    "\n",
    "        uge = ugeprofil(df_opti)\n",
    "        uge2 = ugeprofil(df_norm) \n",
    "        #print(my_bkps)\n",
    "\n",
    "        ugg = uge[['day', 'hour', 'amount', 'x-axis']].merge(uge2[['day', 'hour', 'amount']], how='outer', on=['day', 'hour'], suffixes=('_opti', '_now'))\n",
    "        ugg['besparelse_kwh'] = ugg['amount_now'] - ugg['amount_opti']\n",
    "        ttt = pd.DataFrame(data={'Adresse': [adr], \n",
    "                                 'besparelse': [ugg['besparelse_kwh'].sum()*52], \n",
    "                                 'årligt forbrug': [ugg['amount_now'].sum()*52],\n",
    "                                 'last': df_norm['amount'].mean(),\n",
    "                                 'best': df_opti['amount'].mean(), \n",
    "                                 'mean': dff['amount'].mean(),\n",
    "                                 'meter': dff['meter'].mean(),\n",
    "                                 'bkps': 0,\n",
    "                                 'bkps_value': 0,\n",
    "                                 'total kwh': dff['amount'].sum()} )\n",
    "        ttt[['bkps', 'bkps_value']] = ttt[['bkps', 'bkps_value']].astype('object')\n",
    "        ttt.at[0,'bkps'] = my_bkps\n",
    "        ttt.at[0,'bkps_value'] = vvvv[:,0]\n",
    "        df_besp = df_besp.append(ttt)\n",
    "        dfff = dfff.append(dff)\n",
    "\n",
    "    df_besp = df_besp[df_besp['årligt forbrug'] != 0.0]\n",
    "    df_besp['%'] = df_besp.apply(lambda row: row['besparelse']/row['årligt forbrug']*100, axis=1)\n",
    "    return df_besp, dfff"
   ]
  },
  {
   "cell_type": "code",
   "execution_count": 12,
   "metadata": {},
   "outputs": [
    {
     "name": "stdout",
     "output_type": "stream",
     "text": [
      "[571313104200010398, 571313104200010404, 571313104200187595, 571313104200310382]\n"
     ]
    },
    {
     "data": {
      "text/html": [
       "<div>\n",
       "<style scoped>\n",
       "    .dataframe tbody tr th:only-of-type {\n",
       "        vertical-align: middle;\n",
       "    }\n",
       "\n",
       "    .dataframe tbody tr th {\n",
       "        vertical-align: top;\n",
       "    }\n",
       "\n",
       "    .dataframe thead th {\n",
       "        text-align: right;\n",
       "    }\n",
       "</style>\n",
       "<table border=\"1\" class=\"dataframe\">\n",
       "  <thead>\n",
       "    <tr style=\"text-align: right;\">\n",
       "      <th></th>\n",
       "      <th>meteringPointId</th>\n",
       "      <th>streetName</th>\n",
       "      <th>buildingNumber</th>\n",
       "      <th>postcode</th>\n",
       "      <th>cityName</th>\n",
       "    </tr>\n",
       "  </thead>\n",
       "  <tbody>\n",
       "    <tr>\n",
       "      <th>0</th>\n",
       "      <td>571313104200010398</td>\n",
       "      <td>Sennelsvej</td>\n",
       "      <td>1</td>\n",
       "      <td>7700</td>\n",
       "      <td>Thisted</td>\n",
       "    </tr>\n",
       "    <tr>\n",
       "      <th>1</th>\n",
       "      <td>571313104200010404</td>\n",
       "      <td>Sennelsvej</td>\n",
       "      <td>1</td>\n",
       "      <td>7700</td>\n",
       "      <td>Thisted</td>\n",
       "    </tr>\n",
       "    <tr>\n",
       "      <th>2</th>\n",
       "      <td>571313104200187595</td>\n",
       "      <td>Østerbakken</td>\n",
       "      <td>74</td>\n",
       "      <td>7700</td>\n",
       "      <td>Thisted</td>\n",
       "    </tr>\n",
       "    <tr>\n",
       "      <th>3</th>\n",
       "      <td>571313104200310382</td>\n",
       "      <td>Sennelsvej</td>\n",
       "      <td>1</td>\n",
       "      <td>7700</td>\n",
       "      <td>Thisted</td>\n",
       "    </tr>\n",
       "  </tbody>\n",
       "</table>\n",
       "</div>"
      ],
      "text/plain": [
       "      meteringPointId   streetName buildingNumber postcode cityName\n",
       "0  571313104200010398   Sennelsvej              1     7700  Thisted\n",
       "1  571313104200010404   Sennelsvej              1     7700  Thisted\n",
       "2  571313104200187595  Østerbakken             74     7700  Thisted\n",
       "3  571313104200310382   Sennelsvej              1     7700  Thisted"
      ]
     },
     "execution_count": 12,
     "metadata": {},
     "output_type": "execute_result"
    }
   ],
   "source": [
    "kunde = 'Premier Is'\n",
    "df, IDs = getMeterPoints(kunde)\n",
    "print(IDs)\n",
    "df.head()"
   ]
  },
  {
   "cell_type": "code",
   "execution_count": 13,
   "metadata": {},
   "outputs": [
    {
     "name": "stderr",
     "output_type": "stream",
     "text": [
      "100%|██████████| 4/4 [00:04<00:00,  1.18s/it]\n"
     ]
    },
    {
     "name": "stdout",
     "output_type": "stream",
     "text": [
      "Amount of fails: 0\n"
     ]
    }
   ],
   "source": [
    "df = getMeterReadings(IDs)"
   ]
  },
  {
   "cell_type": "code",
   "execution_count": null,
   "metadata": {},
   "outputs": [],
   "source": []
  },
  {
   "cell_type": "code",
   "execution_count": 14,
   "metadata": {},
   "outputs": [],
   "source": [
    "df['day-moment'] = df['from'].dt.hour.map(get_day_moment)"
   ]
  },
  {
   "cell_type": "code",
   "execution_count": 21,
   "metadata": {},
   "outputs": [
    {
     "name": "stderr",
     "output_type": "stream",
     "text": [
      "  0%|          | 0/2 [00:00<?, ?it/s]C:\\Users\\misc\\AppData\\Local\\Temp\\ipykernel_27076\\3434520826.py:87: SettingWithCopyWarning: \n",
      "A value is trying to be set on a copy of a slice from a DataFrame.\n",
      "Try using .loc[row_indexer,col_indexer] = value instead\n",
      "\n",
      "See the caveats in the documentation: https://pandas.pydata.org/pandas-docs/stable/user_guide/indexing.html#returning-a-view-versus-a-copy\n",
      "  dff['day-moment'] = dff['from'].dt.hour.map(get_day_moment)\n",
      "C:\\Users\\misc\\AppData\\Local\\Temp\\ipykernel_27076\\3434520826.py:52: FutureWarning: The default value of numeric_only in DataFrameGroupBy.mean is deprecated. In a future version, numeric_only will default to False. Either specify numeric_only or select only columns which should be valid for the function.\n",
      "  dff = df.groupby([df['from'].dt.day_name(locale='da_DK'), df['from'].dt.hour]).mean().reset_index(names=['day', 'hour'])\n",
      "C:\\Users\\misc\\AppData\\Local\\Temp\\ipykernel_27076\\3434520826.py:52: FutureWarning: The default value of numeric_only in DataFrameGroupBy.mean is deprecated. In a future version, numeric_only will default to False. Either specify numeric_only or select only columns which should be valid for the function.\n",
      "  dff = df.groupby([df['from'].dt.day_name(locale='da_DK'), df['from'].dt.hour]).mean().reset_index(names=['day', 'hour'])\n",
      "C:\\Users\\misc\\AppData\\Local\\Temp\\ipykernel_27076\\3434520826.py:141: FutureWarning: The frame.append method is deprecated and will be removed from pandas in a future version. Use pandas.concat instead.\n",
      "  df_besp = df_besp.append(ttt)\n",
      "C:\\Users\\misc\\AppData\\Local\\Temp\\ipykernel_27076\\3434520826.py:142: FutureWarning: The frame.append method is deprecated and will be removed from pandas in a future version. Use pandas.concat instead.\n",
      "  dfff = dfff.append(dff)\n",
      " 50%|█████     | 1/2 [00:00<00:00,  4.16it/s]"
     ]
    },
    {
     "name": "stdout",
     "output_type": "stream",
     "text": [
      "0        558.878967\n",
      "1        558.878967\n",
      "2        558.878967\n",
      "3        558.878967\n",
      "4        558.878967\n",
      "            ...    \n",
      "10627    562.801055\n",
      "10628    562.801055\n",
      "10629    562.801055\n",
      "10630    562.801055\n",
      "10631    562.801055\n",
      "Name: bkps, Length: 10632, dtype: float64\n",
      "0        0.127837\n",
      "1        0.127837\n",
      "2        0.127837\n",
      "3        0.127837\n",
      "4        0.127837\n",
      "           ...   \n",
      "10627    0.050289\n",
      "10628    0.050289\n",
      "10629    0.050289\n",
      "10630    0.050289\n",
      "10631    0.050289\n",
      "Name: bkps, Length: 10632, dtype: float64\n"
     ]
    },
    {
     "name": "stderr",
     "output_type": "stream",
     "text": [
      "C:\\Users\\misc\\AppData\\Local\\Temp\\ipykernel_27076\\3434520826.py:87: SettingWithCopyWarning: \n",
      "A value is trying to be set on a copy of a slice from a DataFrame.\n",
      "Try using .loc[row_indexer,col_indexer] = value instead\n",
      "\n",
      "See the caveats in the documentation: https://pandas.pydata.org/pandas-docs/stable/user_guide/indexing.html#returning-a-view-versus-a-copy\n",
      "  dff['day-moment'] = dff['from'].dt.hour.map(get_day_moment)\n",
      "C:\\Users\\misc\\AppData\\Local\\Temp\\ipykernel_27076\\3434520826.py:52: FutureWarning: The default value of numeric_only in DataFrameGroupBy.mean is deprecated. In a future version, numeric_only will default to False. Either specify numeric_only or select only columns which should be valid for the function.\n",
      "  dff = df.groupby([df['from'].dt.day_name(locale='da_DK'), df['from'].dt.hour]).mean().reset_index(names=['day', 'hour'])\n",
      "C:\\Users\\misc\\AppData\\Local\\Temp\\ipykernel_27076\\3434520826.py:52: FutureWarning: The default value of numeric_only in DataFrameGroupBy.mean is deprecated. In a future version, numeric_only will default to False. Either specify numeric_only or select only columns which should be valid for the function.\n",
      "  dff = df.groupby([df['from'].dt.day_name(locale='da_DK'), df['from'].dt.hour]).mean().reset_index(names=['day', 'hour'])\n",
      "C:\\Users\\misc\\AppData\\Local\\Temp\\ipykernel_27076\\3434520826.py:141: FutureWarning: The frame.append method is deprecated and will be removed from pandas in a future version. Use pandas.concat instead.\n",
      "  df_besp = df_besp.append(ttt)\n",
      "C:\\Users\\misc\\AppData\\Local\\Temp\\ipykernel_27076\\3434520826.py:142: FutureWarning: The frame.append method is deprecated and will be removed from pandas in a future version. Use pandas.concat instead.\n",
      "  dfff = dfff.append(dff)\n",
      "100%|██████████| 2/2 [00:00<00:00,  4.33it/s]\n"
     ]
    },
    {
     "data": {
      "text/html": [
       "<div>\n",
       "<style scoped>\n",
       "    .dataframe tbody tr th:only-of-type {\n",
       "        vertical-align: middle;\n",
       "    }\n",
       "\n",
       "    .dataframe tbody tr th {\n",
       "        vertical-align: top;\n",
       "    }\n",
       "\n",
       "    .dataframe thead th {\n",
       "        text-align: right;\n",
       "    }\n",
       "</style>\n",
       "<table border=\"1\" class=\"dataframe\">\n",
       "  <thead>\n",
       "    <tr style=\"text-align: right;\">\n",
       "      <th></th>\n",
       "      <th>Adresse</th>\n",
       "      <th>besparelse</th>\n",
       "      <th>årligt forbrug</th>\n",
       "      <th>last</th>\n",
       "      <th>best</th>\n",
       "      <th>mean</th>\n",
       "      <th>bkps</th>\n",
       "      <th>meter</th>\n",
       "      <th>bkps_value</th>\n",
       "      <th>total kwh</th>\n",
       "      <th>%</th>\n",
       "    </tr>\n",
       "  </thead>\n",
       "  <tbody>\n",
       "    <tr>\n",
       "      <th>0</th>\n",
       "      <td>Sennelsvej 1, 7700 Thisted</td>\n",
       "      <td>1.575725e+06</td>\n",
       "      <td>5.040788e+06</td>\n",
       "      <td>562.801055</td>\n",
       "      <td>389.440272</td>\n",
       "      <td>614.973676</td>\n",
       "      <td>[1075, 1590, 2375, 2750, 4885, 5615, 6730, 729...</td>\n",
       "      <td>5.713131e+17</td>\n",
       "      <td>[558.8789674418605, 611.7893786407767, 711.333...</td>\n",
       "      <td>6538400.12</td>\n",
       "      <td>31.259499</td>\n",
       "    </tr>\n",
       "    <tr>\n",
       "      <th>0</th>\n",
       "      <td>Østerbakken 74, 7700 Thisted</td>\n",
       "      <td>0.000000e+00</td>\n",
       "      <td>4.393088e+02</td>\n",
       "      <td>0.050289</td>\n",
       "      <td>0.050289</td>\n",
       "      <td>0.087511</td>\n",
       "      <td>[3865, 4980, 7120, 7550, 10632]</td>\n",
       "      <td>5.713131e+17</td>\n",
       "      <td>[0.12783699870633894, 0.14306726457399102, 0.0...</td>\n",
       "      <td>930.42</td>\n",
       "      <td>0.000000</td>\n",
       "    </tr>\n",
       "  </tbody>\n",
       "</table>\n",
       "</div>"
      ],
      "text/plain": [
       "                        Adresse    besparelse  årligt forbrug        last  \\\n",
       "0    Sennelsvej 1, 7700 Thisted  1.575725e+06    5.040788e+06  562.801055   \n",
       "0  Østerbakken 74, 7700 Thisted  0.000000e+00    4.393088e+02    0.050289   \n",
       "\n",
       "         best        mean                                               bkps  \\\n",
       "0  389.440272  614.973676  [1075, 1590, 2375, 2750, 4885, 5615, 6730, 729...   \n",
       "0    0.050289    0.087511                    [3865, 4980, 7120, 7550, 10632]   \n",
       "\n",
       "          meter                                         bkps_value  \\\n",
       "0  5.713131e+17  [558.8789674418605, 611.7893786407767, 711.333...   \n",
       "0  5.713131e+17  [0.12783699870633894, 0.14306726457399102, 0.0...   \n",
       "\n",
       "    total kwh          %  \n",
       "0  6538400.12  31.259499  \n",
       "0      930.42   0.000000  "
      ]
     },
     "execution_count": 21,
     "metadata": {},
     "output_type": "execute_result"
    }
   ],
   "source": [
    "df_besp, dff = besp()\n",
    "dff['meter'] = pd.to_numeric(dff['meter'])\n",
    "df_besp.head()"
   ]
  },
  {
   "cell_type": "code",
   "execution_count": 291,
   "metadata": {},
   "outputs": [],
   "source": [
    "df_besp.to_csv('../Data/besp/'+kunde+'.csv', header=True, sep=',', index=False)\n",
    "dff.to_csv('../Data/timeforbrug/'+kunde+'.csv', header=True, sep=',', index=False)"
   ]
  },
  {
   "cell_type": "code",
   "execution_count": 281,
   "metadata": {},
   "outputs": [
    {
     "data": {
      "text/plain": [
       "(34800, 6)"
      ]
     },
     "execution_count": 281,
     "metadata": {},
     "output_type": "execute_result"
    }
   ],
   "source": [
    "dff.shape "
   ]
  },
  {
   "cell_type": "code",
   "execution_count": 211,
   "metadata": {},
   "outputs": [],
   "source": [
    "#df_besp.head()"
   ]
  },
  {
   "cell_type": "code",
   "execution_count": 214,
   "metadata": {},
   "outputs": [
    {
     "data": {
      "text/plain": [
       "[<matplotlib.lines.Line2D at 0x24e99ce4460>]"
      ]
     },
     "execution_count": 214,
     "metadata": {},
     "output_type": "execute_result"
    },
    {
     "data": {
      "image/png": "[encoded data removed]",
      "text/plain": [
       "<Figure size 1400x400 with 1 Axes>"
      ]
     },
     "metadata": {},
     "output_type": "display_data"
    }
   ],
   "source": [
    "dfff = dff[dff['Adresse']=='Vandmanden 5, 9200 Aalborg SV'].groupby('from').agg({'meter': 'mean', 'amount': 'sum', 'bkps': 'sum'}).reset_index()\n",
    "\n",
    "fig, ax = plt.subplots(figsize=(14,4)) \n",
    "ax.plot(dfff['from'], dfff['amount'], linewidth=0.3)\n",
    "ax.plot(dfff['from'], dfff['bkps'])\n",
    "ax.plot(dfff['from'][dfff['bkps']==dfff['bkps'].min()], dfff['bkps'][dfff['bkps']==dfff['bkps'].min()], linewidth=6)\n"
   ]
  },
  {
   "cell_type": "code",
   "execution_count": 148,
   "metadata": {},
   "outputs": [
    {
     "data": {
      "text/html": [
       "<div>\n",
       "<style scoped>\n",
       "    .dataframe tbody tr th:only-of-type {\n",
       "        vertical-align: middle;\n",
       "    }\n",
       "\n",
       "    .dataframe tbody tr th {\n",
       "        vertical-align: top;\n",
       "    }\n",
       "\n",
       "    .dataframe thead th {\n",
       "        text-align: right;\n",
       "    }\n",
       "</style>\n",
       "<table border=\"1\" class=\"dataframe\">\n",
       "  <thead>\n",
       "    <tr style=\"text-align: right;\">\n",
       "      <th></th>\n",
       "      <th>from</th>\n",
       "      <th>meter</th>\n",
       "      <th>amount</th>\n",
       "      <th>bkps</th>\n",
       "    </tr>\n",
       "  </thead>\n",
       "  <tbody>\n",
       "  </tbody>\n",
       "</table>\n",
       "</div>"
      ],
      "text/plain": [
       "Empty DataFrame\n",
       "Columns: [from, meter, amount, bkps]\n",
       "Index: []"
      ]
     },
     "execution_count": 148,
     "metadata": {},
     "output_type": "execute_result"
    }
   ],
   "source": [
    "dfff.head()"
   ]
  },
  {
   "cell_type": "code",
   "execution_count": null,
   "metadata": {},
   "outputs": [],
   "source": []
  }
 ],
 "metadata": {
  "kernelspec": {
   "display_name": "Python 3",
   "language": "python",
   "name": "python3"
  },
  "language_info": {
   "codemirror_mode": {
    "name": "ipython",
    "version": 3
   },
   "file_extension": ".py",
   "mimetype": "text/x-python",
   "name": "python",
   "nbconvert_exporter": "python",
   "pygments_lexer": "ipython3",
   "version": "3.10.10"
  },
  "orig_nbformat": 4,
  "vscode": {
   "interpreter": {
    "hash": "2da2f24219e96d79973bd0de2a2909cb73185de5c48fe13f548911ba85a98feb"
   }
  }
 },
 "nbformat": 4,
 "nbformat_minor": 2
}
